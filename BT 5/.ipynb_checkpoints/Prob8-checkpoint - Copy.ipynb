{
 "cells": [
  {
   "cell_type": "markdown",
   "metadata": {},
   "source": [
    "# Problem 8"
   ]
  },
  {
   "cell_type": "markdown",
   "metadata": {},
   "source": [
    "A 5-point moving average filter computes a simple average over five input samples at\n",
    "each n.\n",
    "\n",
    "* (a) Determine the difference equation for this filter.\n",
    "\n",
    "* (b) Determine and plot the impulse response $h[n]$.\n",
    "\n",
    "* (c) Draw the system block diagram."
   ]
  },
  {
   "cell_type": "markdown",
   "metadata": {},
   "source": [
    "## Section a:\n"
   ]
  },
  {
   "cell_type": "markdown",
   "metadata": {},
   "source": [
    "According to the formula of *the moving average filter* that has been mentioned in example about ***Recursive FIR system*** at page 66 in the textbook, we have:"
   ]
  },
  {
   "cell_type": "markdown",
   "metadata": {},
   "source": [
    "$y\\left [ n \\right ] = \\frac{1}{M+1}\\sum_{k=0}^{M}x\\left [ n-k \\right ]$"
   ]
  },
  {
   "cell_type": "markdown",
   "metadata": {},
   "source": [
    "In the 5-point moving average filter, the difference equation would be:"
   ]
  },
  {
   "cell_type": "markdown",
   "metadata": {},
   "source": [
    "$y\\left [ n \\right ] = \\frac{1}{4+1}\\sum_{k=0}^{4}x\\left [ n-k \\right ]$"
   ]
  },
  {
   "cell_type": "markdown",
   "metadata": {},
   "source": [
    "$y\\left [ n \\right ] = \\frac{1}{5}\\left ( x\\left [ n \\right ] +x\\left [ n-1 \\right ]+x\\left [ n-2 \\right ] +x\\left [ n-3 \\right ]+x\\left [ n-4\\right ]\\right )$"
   ]
  },
  {
   "cell_type": "markdown",
   "metadata": {},
   "source": [
    "## Section b:"
   ]
  },
  {
   "cell_type": "markdown",
   "metadata": {},
   "source": [
    "$y\\left [ n \\right ] = \\sum_{-\\infty }^{\\infty }h\\left [ k \\right ]x\\left [ n-k \\right ]$"
   ]
  },
  {
   "cell_type": "code",
   "execution_count": null,
   "metadata": {},
   "outputs": [],
   "source": []
  }
 ],
 "metadata": {
  "kernelspec": {
   "display_name": "Python 3",
   "language": "python",
   "name": "python3"
  },
  "language_info": {
   "codemirror_mode": {
    "name": "ipython",
    "version": 3
   },
   "file_extension": ".py",
   "mimetype": "text/x-python",
   "name": "python",
   "nbconvert_exporter": "python",
   "pygments_lexer": "ipython3",
   "version": "3.8.5"
  }
 },
 "nbformat": 4,
 "nbformat_minor": 4
}
