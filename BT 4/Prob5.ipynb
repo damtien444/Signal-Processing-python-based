{
 "cells": [
  {
   "cell_type": "markdown",
   "metadata": {},
   "source": [
    "# Problem 5"
   ]
  },
  {
   "cell_type": "markdown",
   "metadata": {},
   "source": [
    "The sinusoidal signal $cos(\\omega _{0}n+\\theta )$ is periodic in $n$ if the normalized frequency $f_{0} \\overset{\\Delta}{=} \\frac{\\omega _{0}}{2\\pi }$ is a rational number, that is, $f_{0} = \\frac{M}{N}$ where $M$ and $N$ are integers."
   ]
  },
  {
   "cell_type": "markdown",
   "metadata": {},
   "source": [
    "## Section a: \n"
   ]
  },
  {
   "cell_type": "markdown",
   "metadata": {},
   "source": [
    "Let: $x\\left [ n \\right ] = cos(\\omega _{0}n+\\theta )$\n",
    " \n",
    "The signal is periodic if $x\\left [ n \\right ] =x\\left [ n  + N\\right ] $ where $N$ is an integer.\n",
    "\n",
    "$cos(\\omega _{0}(n+N) + \\theta )= cos(\\omega _{0}n+ \\omega _{0}N +\\theta ) = cos(\\omega _{0}n+\\theta)$\n",
    "\n",
    "$\\Rightarrow \\omega _{0}N$ must be an integer multiple of $2\\pi$.\n",
    "\n",
    "$\\Rightarrow \\omega _{0}N = 2\\pi M$ where $M$ is an integer.\n",
    "\n",
    "$\\Rightarrow \\frac{\\omega _{0}}{2\\pi}=\\frac{M}{N}$ \n",
    "\n",
    "Otherwise, $f_{0} \\overset{\\Delta}{=} \\frac{\\omega _{0}}{2\\pi }$\n",
    "\n",
    "$\\Rightarrow \\frac{\\omega _{0}}{2\\pi}=\\frac{M}{N}=f_{0}$ \n",
    "\n",
    "And $M$, $N$ are integer, therefore $f_{0}$ is a rational number. Problem proved!!"
   ]
  },
  {
   "cell_type": "markdown",
   "metadata": {},
   "source": [
    "## Section b:"
   ]
  },
  {
   "cell_type": "code",
   "execution_count": 1,
   "metadata": {},
   "outputs": [
    {
     "data": {
      "text/plain": [
       "Text(0, 0.5, 'Value')"
      ]
     },
     "execution_count": 1,
     "metadata": {},
     "output_type": "execute_result"
    },
    {
     "data": {
      "image/png": "[encoded data removed]",
      "text/plain": [
       "<Figure size 864x432 with 1 Axes>"
      ]
     },
     "metadata": {
      "needs_background": "light"
     },
     "output_type": "display_data"
    }
   ],
   "source": [
    "import numpy as np\n",
    "import matplotlib.pyplot as plt\n",
    "\n",
    "f = lambda n: np.cos(0.1*n-np.pi/5)\n",
    "\n",
    "sampled_f = [f(i) for i in range(-20, 21, 1)]\n",
    "\n",
    "fig = plt.figure()\n",
    "fig.set_size_inches(12,6)\n",
    "plt.subplots_adjust(hspace=1)\n",
    "plt.stem(range(-20, 21, 1), sampled_f)\n",
    "plt.title('Cos(0.1n-pi/5)')\n",
    "plt.xlabel('Time [n]')\n",
    "plt.ylabel('Value')"
   ]
  },
  {
   "cell_type": "markdown",
   "metadata": {},
   "source": [
    "From the plot above, we **can't conclude** the periodicity of the plot. Because the value doesn't repeat in the range $-20\\leq n \\leq 20$ with the same time difference."
   ]
  },
  {
   "cell_type": "markdown",
   "metadata": {},
   "source": [
    "## Section c:"
   ]
  },
  {
   "cell_type": "code",
   "execution_count": 2,
   "metadata": {},
   "outputs": [
    {
     "data": {
      "text/plain": [
       "Text(0, 0.5, 'Value')"
      ]
     },
     "execution_count": 2,
     "metadata": {},
     "output_type": "execute_result"
    },
    {
     "data": {
      "image/png": "[encoded data removed]",
      "text/plain": [
       "<Figure size 864x432 with 1 Axes>"
      ]
     },
     "metadata": {
      "needs_background": "light"
     },
     "output_type": "display_data"
    }
   ],
   "source": [
    "import numpy as np\n",
    "import matplotlib.pyplot as plt\n",
    "\n",
    "f = lambda n: np.cos(0.1*n*np.pi-np.pi/5)\n",
    "\n",
    "sampled_f = [f(i) for i in range(-10, 21, 1)]\n",
    "\n",
    "fig = plt.figure()\n",
    "fig.set_size_inches(12,6)\n",
    "plt.subplots_adjust(hspace=1)\n",
    "plt.stem(range(-10, 21, 1), sampled_f)\n",
    "plt.title('Cos(0.1pi*n-pi/5)')\n",
    "plt.xlabel('Time [n]')\n",
    "plt.ylabel('Value')"
   ]
  },
  {
   "cell_type": "markdown",
   "metadata": {},
   "source": [
    "From the plot above, YES, we **can conclude** the periodicity of the plot. Because the value repeats in the range $-10\\leq n \\leq 20$ with the same time difference. The fundamental period is 20 steps. $M = 1$ and $N = 20$.\n",
    "\n",
    "$f_{0} \\overset{\\Delta}{=} \\frac{\\omega _{0}}{2\\pi } = \\frac{0.1\\pi}{2\\pi }=0.05=\\frac{1}{20}$"
   ]
  },
  {
   "cell_type": "code",
   "execution_count": 3,
   "metadata": {},
   "outputs": [
    {
     "name": "stdout",
     "output_type": "stream",
     "text": [
      "0.9510565162951535\n",
      "0.9510565162951535\n"
     ]
    }
   ],
   "source": [
    "print(f(1))\n",
    "print(f(21))"
   ]
  },
  {
   "cell_type": "code",
   "execution_count": null,
   "metadata": {},
   "outputs": [],
   "source": []
  }
 ],
 "metadata": {
  "kernelspec": {
   "display_name": "Python 3",
   "language": "python",
   "name": "python3"
  },
  "language_info": {
   "codemirror_mode": {
    "name": "ipython",
    "version": 3
   },
   "file_extension": ".py",
   "mimetype": "text/x-python",
   "name": "python",
   "nbconvert_exporter": "python",
   "pygments_lexer": "ipython3",
   "version": "3.8.5"
  }
 },
 "nbformat": 4,
 "nbformat_minor": 4
}
