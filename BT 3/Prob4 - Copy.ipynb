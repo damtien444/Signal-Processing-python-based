{
 "cells": [
  {
   "cell_type": "code",
   "execution_count": 1,
   "metadata": {},
   "outputs": [],
   "source": [
    "import numpy as np\n",
    "import matplotlib.pyplot as plt\n",
    "import wave, math\n",
    "from IPython.display import Audio"
   ]
  },
  {
   "cell_type": "code",
   "execution_count": 2,
   "metadata": {},
   "outputs": [],
   "source": [
    "# Biến\n",
    "\n",
    "# freq = 261\n",
    "freq = 10000\n",
    "# Tần số của sóng sin của note C\n",
    "\n",
    "sRate1 = int(10000)\n",
    "# sRate2 = int(freq*2)\n",
    "# Tần số lấy mẫu\n",
    "\n",
    "numPeriods = 0.1\n",
    "# Số giây lấy mẫu\n",
    "\n",
    "numSamples1 = int(numPeriods * sRate1) \n",
    "# numSamples2 = int(numPeriods * sRate2)\n",
    "# numSamples = int(numPeriods * int(freq * 500))\n",
    "# Tổng số mẫu\n",
    "\n",
    "# amptitude = 5\n",
    "# Độ lớn"
   ]
  },
  {
   "cell_type": "code",
   "execution_count": 3,
   "metadata": {},
   "outputs": [],
   "source": [
    "# Mảng gồm những thời điểm lấy mẫu\n",
    "x1 = np.linspace(0, numPeriods, numSamples1)\n",
    "# x2 = np.linspace(0, numPeriods, numSamples2)\n",
    "# x = np.linspace(0, numPeriods, numSamples)\n",
    "\n",
    "# x4 = np.linspace(0, numPeriods, numSamples1)"
   ]
  },
  {
   "cell_type": "code",
   "execution_count": 4,
   "metadata": {},
   "outputs": [],
   "source": [
    "# Định nghĩa hàm sine\n",
    "f = lambda t: 2*np.sin(2*np.pi*1000*t)+1*np.sin(2*np.pi*2000*t)"
   ]
  },
  {
   "cell_type": "code",
   "execution_count": 5,
   "metadata": {},
   "outputs": [],
   "source": [
    "# Lấy mẫu\n",
    "\n",
    "# Lấy mẫu với tần số freq*3\n",
    "sampled_f1 = [f(i) for i in x1]\n",
    "\n",
    "# Lấy mẫu với tần số freq*1.5\n",
    "# sampled_f2 = [f(i) for i in x2]\n",
    "\n",
    "# # Lấy mẫu với tần số cao\n",
    "# sampled_f = [f(i) for i in x]\n",
    "\n",
    "# sampled_test = [1000 for i in x4]"
   ]
  },
  {
   "cell_type": "code",
   "execution_count": 6,
   "metadata": {},
   "outputs": [
    {
     "data": {
      "text/plain": [
       "(0.0, 0.01)"
      ]
     },
     "execution_count": 6,
     "metadata": {},
     "output_type": "execute_result"
    }
   ],
   "source": [
    "fig = plt.figure()\n",
    "fig.set_size_inches(12,6)\n",
    "plt.subplots_adjust(hspace=1)\n",
    "%matplotlib tk\n",
    "\n",
    "\n",
    "plt.subplot(311)\n",
    "plt.plot(x1, sampled_f1)\n",
    "# plt.stem(x4, sampled_test)\n",
    "\n",
    "\n",
    "plt.title('')\n",
    "plt.xlabel('Time [sec]')\n",
    "plt.ylabel('Cường độ')\n",
    "plt.xlim(0, 0.01)\n",
    "# plt.ylim(-6, 6)\n",
    "# Audio(sampled_f1, rate=freq*3)\n",
    "\n"
   ]
  },
  {
   "cell_type": "code",
   "execution_count": 7,
   "metadata": {},
   "outputs": [],
   "source": [
    "# fig = plt.figure()\n",
    "# fig.set_size_inches(12,6)\n",
    "# plt.subplots_adjust(hspace=1)\n",
    "# plt.subplot(312)\n",
    "# plt.plot(x2, sampled_f2)\n",
    "# plt.title('Sine wave with sample rate 1.5*freq')\n",
    "# plt.xlabel('Time [sec]')\n",
    "# plt.ylabel('Cường độ')\n",
    "# plt.xlim(0, .01)\n",
    "# # plt.ylim(-6, 6)\n",
    "# Audio(sampled_f2, rate=int(freq*1.5))"
   ]
  },
  {
   "cell_type": "code",
   "execution_count": 8,
   "metadata": {},
   "outputs": [],
   "source": [
    "# fig = plt.figure()\n",
    "# fig.set_size_inches(12,6)\n",
    "# plt.subplots_adjust(hspace=1)\n",
    "# plt.subplot(312)\n",
    "# plt.plot(x, sampled_f)\n",
    "# plt.title('Sine wave with sample rate 1.5*freq')\n",
    "# plt.xlabel('Time [sec]')\n",
    "# plt.ylabel('Cường độ')\n",
    "# plt.xlim(0, .01)\n",
    "# # plt.ylim(-6, 6)\n",
    "# Audio(sampled_f, rate=int(freq*500))"
   ]
  },
  {
   "cell_type": "code",
   "execution_count": 9,
   "metadata": {},
   "outputs": [],
   "source": [
    "# fig = plt.figure()\n",
    "\n",
    "# fig.set_size_inches(12,6)\n",
    "# plt.subplots_adjust(hspace=1)\n",
    "\n",
    "# plt.subplot(312)\n",
    "# plt.plot(x1, sampled_f1)\n",
    "\n",
    "# plt.xlabel('Time [sec]')\n",
    "# plt.ylabel('Cường độ')\n",
    "# plt.xlim(0, .05)\n",
    "# plt.ylim(-6, 6)\n",
    "\n",
    "# plt.title('Sóng sin với tần số lấy mẫu 2.5*freq và freq vẽ đè lên để thấy rõ hơn')\n",
    "\n",
    "# plt.plot(x, sampled_f)"
   ]
  },
  {
   "cell_type": "code",
   "execution_count": null,
   "metadata": {},
   "outputs": [],
   "source": []
  }
 ],
 "metadata": {
  "kernelspec": {
   "display_name": "Python 3",
   "language": "python",
   "name": "python3"
  },
  "language_info": {
   "codemirror_mode": {
    "name": "ipython",
    "version": 3
   },
   "file_extension": ".py",
   "mimetype": "text/x-python",
   "name": "python",
   "nbconvert_exporter": "python",
   "pygments_lexer": "ipython3",
   "version": "3.8.5"
  }
 },
 "nbformat": 4,
 "nbformat_minor": 4
}
